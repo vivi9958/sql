{
 "cells": [
  {
   "cell_type": "code",
   "execution_count": 2,
   "id": "e8947b1a",
   "metadata": {},
   "outputs": [
    {
     "name": "stdout",
     "output_type": "stream",
     "text": [
      "[('66796E3331',)]\n"
     ]
    }
   ],
   "source": [
    "import sqlite3\n",
    "conn = sqlite3.connect(':memory:')\n",
    "c = conn.cursor()\n",
    "c.execute(\"\"\"CREATE TABLE Ages(\n",
    "             name VARCHAR(128),\n",
    "             age INTEGER\n",
    "             )\"\"\"\n",
    "         )\n",
    "def add_people(sName, iAge):\n",
    "    with conn:\n",
    "        c.execute(\"INSERT INTO Ages VALUES (:name, :age)\", {'name':sName, 'age':iAge})\n",
    "\n",
    "lPeople = [('mara',28), ('otto', 33), ('fyn', 31), ('neshawn', 17)]\n",
    "for tItem in lPeople:\n",
    "    sName, iAge = tItem\n",
    "    add_people(sName, iAge)\n",
    "\n",
    "c.execute(\"SELECT hex(name || age) AS X FROM Ages ORDER BY X LIMIT 1\")\n",
    "print(c.fetchall())\n",
    "\n",
    "conn.commit()\n",
    "conn.close()"
   ]
  },
  {
   "cell_type": "code",
   "execution_count": null,
   "id": "e6ad50fc",
   "metadata": {},
   "outputs": [],
   "source": []
  }
 ],
 "metadata": {
  "kernelspec": {
   "display_name": "Python 3 (ipykernel)",
   "language": "python",
   "name": "python3"
  },
  "language_info": {
   "codemirror_mode": {
    "name": "ipython",
    "version": 3
   },
   "file_extension": ".py",
   "mimetype": "text/x-python",
   "name": "python",
   "nbconvert_exporter": "python",
   "pygments_lexer": "ipython3",
   "version": "3.11.4"
  }
 },
 "nbformat": 4,
 "nbformat_minor": 5
}
